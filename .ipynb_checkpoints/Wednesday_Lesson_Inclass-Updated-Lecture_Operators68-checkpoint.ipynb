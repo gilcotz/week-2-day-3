{
 "cells": [
  {
   "cell_type": "markdown",
   "metadata": {},
   "source": [
    "# Data Collections 2 (Dictionaries, Sets) and Importing Modules"
   ]
  },
  {
   "cell_type": "markdown",
   "metadata": {},
   "source": [
    "## Tasks Today:\n",
    "\n",
    "1) Dictionary <br>\n",
    " &nbsp;&nbsp;&nbsp;&nbsp; a) Declaring (key, value) <br>\n",
    " &nbsp;&nbsp;&nbsp;&nbsp; b) Accessing Values <br>\n",
    " &nbsp;&nbsp;&nbsp;&nbsp; ------ Exercise #1 - Print the eye color of each person in a double nested dict <br>\n",
    " &nbsp;&nbsp;&nbsp;&nbsp; c) Adding New Pairs <br>\n",
    " &nbsp;&nbsp;&nbsp;&nbsp; d) Modifying Values <br>\n",
    " &nbsp;&nbsp;&nbsp;&nbsp; e) Removing Key, Value Pairs <br>\n",
    " &nbsp;&nbsp;&nbsp;&nbsp; f) Looping a Dictionary <br>\n",
    " &nbsp;&nbsp;&nbsp;&nbsp; g) Looping Only Keys <br>\n",
    " &nbsp;&nbsp;&nbsp;&nbsp; h) Looping Only Values <br>\n",
    " &nbsp;&nbsp;&nbsp;&nbsp; ------ Exercise #2 - Create a Function that Prints All Key Value Pairs within a print .format()  <br>\n",
    " &nbsp;&nbsp;&nbsp;&nbsp; i) sorted() <br>\n",
    " &nbsp;&nbsp;&nbsp;&nbsp; j) Lists with Dictionaries <br>\n",
    " &nbsp;&nbsp;&nbsp;&nbsp; k) Dictionaries with Lists <br>\n",
    " &nbsp;&nbsp;&nbsp;&nbsp; l) Dictionaries with Dictionaries <br>\n",
    " &nbsp;&nbsp;&nbsp;&nbsp; ------ Exercise #3 - Write a Function that asks someone's name and address, and then stores that into a dictionary, which prints all names and addresses after they're done putting information in...  <br>\n",
    "2) Dictionaries vs. Lists (over time)<br>\n",
    "3) Set <br>\n",
    " &nbsp;&nbsp;&nbsp;&nbsp; a) Declaring <br>\n",
    " &nbsp;&nbsp;&nbsp;&nbsp; b) .add() <br>\n",
    " &nbsp;&nbsp;&nbsp;&nbsp; c) .remove() <br>\n",
    " &nbsp;&nbsp;&nbsp;&nbsp; d) .union() <br>\n",
    " &nbsp;&nbsp;&nbsp;&nbsp; e) .intersection() <br>\n",
    " &nbsp;&nbsp;&nbsp;&nbsp; f) .difference() <br>\n",
    " &nbsp;&nbsp;&nbsp;&nbsp; g) Frozen Set <br>\n",
    "4) Modules <br>\n",
    " &nbsp;&nbsp;&nbsp;&nbsp; a) Importing Entire Modules <br>\n",
    " &nbsp;&nbsp;&nbsp;&nbsp; b) Importing Methods Only <br>\n",
    " &nbsp;&nbsp;&nbsp;&nbsp; c) Using the 'as' Keyword <br>\n",
    " &nbsp;&nbsp;&nbsp;&nbsp; d) Creating a Module <br>\n",
    "5) Exercises <br>\n",
    " &nbsp;&nbsp;&nbsp;&nbsp; a) Build a Shopping Cart <br>\n",
    " &nbsp;&nbsp;&nbsp;&nbsp; b) Create Your Own Module <br>"
   ]
  },
  {
   "cell_type": "markdown",
   "metadata": {},
   "source": [
    "## Dictionary <br>\n",
    "<p>A collection of data with 'key:value' pairs. Dictionaries are ordered as of Python 3.6</p>"
   ]
  },
  {
   "cell_type": "markdown",
   "metadata": {},
   "source": [
    "##### Declaring (key, value)"
   ]
  },
  {
   "cell_type": "code",
   "execution_count": null,
   "metadata": {},
   "outputs": [],
   "source": [
    "#keys should be unique\n",
    "#can use numbers or strings as keys \n",
    "\n",
    "d_1= {}\n",
    "#or\n",
    "d_2 = dict()\n",
    "\n",
    "print(d_1)\n",
    "print(d_2)\n",
    "#or we can declare with key: value pairs\n",
    "\n",
    "d_3 ={'dave' : '255 st', \n",
    "      'sean': '522 1st st', \n",
    "      0: 'this is the value for the key of 0',\n",
    "      1: 'this is value of i',\n",
    "      27: 'value 27'\n",
    "     }\n",
    "print(d_3)"
   ]
  },
  {
   "cell_type": "markdown",
   "metadata": {},
   "source": [
    "##### Accessing Values"
   ]
  },
  {
   "cell_type": "code",
   "execution_count": null,
   "metadata": {},
   "outputs": [],
   "source": [
    "#dict[key]\n",
    "\n",
    "d_3['dave']\n",
    "d_3[1]"
   ]
  },
  {
   "cell_type": "markdown",
   "metadata": {},
   "source": [
    "## In-Class Exercise #1 - Print a formatted statement from the dictionary below <br>\n",
    "<p>The output should be '2018 Chevrolet Silverado'</p>"
   ]
  },
  {
   "cell_type": "code",
   "execution_count": null,
   "metadata": {},
   "outputs": [],
   "source": [
    "# use the dict below\n",
    "truck = {\n",
    "    'year': 2018,\n",
    "    'make': 'Chevrolet',\n",
    "    'model': 'Silverado'\n",
    "}\n",
    "# print( \"My favorite car is the \" truck)\n",
    "\n",
    "#another answer\n",
    "\n",
    "print(f'{truck[\"year\"]} {truck[\"make\"]} {truck[\"model\"]}')\n",
    "\n"
   ]
  },
  {
   "cell_type": "markdown",
   "metadata": {},
   "source": [
    "##### Adding New Pairs"
   ]
  },
  {
   "cell_type": "code",
   "execution_count": null,
   "metadata": {},
   "outputs": [],
   "source": [
    "#dict[knewkey]= value\n",
    "\n",
    "d_3['bob'] ='151 Main st'\n",
    "\n",
    "d_3"
   ]
  },
  {
   "cell_type": "markdown",
   "metadata": {},
   "source": [
    "##### Modifying Values"
   ]
  },
  {
   "cell_type": "code",
   "execution_count": null,
   "metadata": {},
   "outputs": [],
   "source": [
    "#dict[existingkey]= value\n",
    "\n",
    "d_3['bob'] = '555 W Ontario St'  #pretty much is just like changing the value of a string\n",
    "d_3\n",
    "\n",
    "placeholder ='333 E ontario St'\n",
    "\n",
    "d_3['bob'] = placeholder + ' Chicago, IL'\n",
    "d_3\n"
   ]
  },
  {
   "cell_type": "markdown",
   "metadata": {},
   "source": [
    "##### Removing Key, Value Pairs"
   ]
  },
  {
   "cell_type": "code",
   "execution_count": null,
   "metadata": {},
   "outputs": [],
   "source": [
    "#del dict[key]\n",
    "print(d_3)\n",
    "\n",
    "del d_3['bob']\n",
    "\n",
    "d_3"
   ]
  },
  {
   "cell_type": "markdown",
   "metadata": {},
   "source": [
    "##### Looping a Dictionary"
   ]
  },
  {
   "cell_type": "code",
   "execution_count": null,
   "metadata": {},
   "outputs": [],
   "source": [
    "# .items()\n",
    "# a, b, c = 1, 2, 3\n",
    "# print(a)\n",
    "# print(b)\n",
    "# print(c)\n",
    "\n",
    "#correct way to access kv pairs in dict \n",
    "\n",
    "d_3.items()\n",
    "\n",
    "for key, value in d_3.items():\n",
    "    print(key, value)\n",
    "    \n",
    "#another way\n",
    "\n",
    "for item in d_3.items():\n",
    "    print(item[1])"
   ]
  },
  {
   "cell_type": "markdown",
   "metadata": {},
   "source": [
    "##### Looping Only Keys"
   ]
  },
  {
   "cell_type": "code",
   "execution_count": null,
   "metadata": {},
   "outputs": [],
   "source": [
    "# .keys()\n",
    "d_3.keys()\n",
    "\n",
    "for i in d_3:\n",
    "    print(i)\n",
    "\n",
    "    #correct way to iterate over keys\n",
    "for k in d_3.keys():\n",
    "    print(k)"
   ]
  },
  {
   "cell_type": "markdown",
   "metadata": {},
   "source": [
    "##### Looping Only Values"
   ]
  },
  {
   "cell_type": "code",
   "execution_count": null,
   "metadata": {},
   "outputs": [],
   "source": [
    "# .values()\n",
    "\n",
    "d_3.values()\n",
    "\n",
    "for value in d_3.values():\n",
    "    print(value)\n"
   ]
  },
  {
   "cell_type": "markdown",
   "metadata": {},
   "source": [
    "## In-Class Exercise #2 - Create a Function that Prints All Key Value Pairs within a print .format() <br>\n",
    "<p><b>Output should be:</b><br>\n",
    "Max has blue eyes<br>\n",
    "Lilly has brown eyes<br>\n",
    "Barney has blue eyes<br>\n",
    "etc.\n",
    "</p>"
   ]
  },
  {
   "cell_type": "code",
   "execution_count": null,
   "metadata": {},
   "outputs": [],
   "source": [
    "# use the dict below\n",
    "\n",
    "people = {\n",
    "    'Max': 'blue',\n",
    "    'Lilly': 'brown',\n",
    "    'Barney': 'blue',\n",
    "    'Larney': 'brown',\n",
    "    'Ted': 'purple'\n",
    "}\n",
    "\n",
    "# def fun(a_dict):\n",
    "#     people['Max'] ='blue eyes'\n",
    "#     people['lilly'] ='brown eyes'\n",
    "#     people['Barney'] ='blue eyes'\n",
    "#     retun a_dict\n",
    "\n",
    "# another solution\n",
    "\n",
    "def eyeColor(a_dict):\n",
    "    for key, value in a_dict.items():\n",
    "        print(f'{key} has {value} eyes') #return return first value and finishes the \n",
    "                                         #output but print will return the values that you want \n",
    "    \n",
    "eyeColor(people)\n",
    "    "
   ]
  },
  {
   "cell_type": "markdown",
   "metadata": {},
   "source": [
    "##### sorted()"
   ]
  },
  {
   "cell_type": "code",
   "execution_count": null,
   "metadata": {},
   "outputs": [],
   "source": [
    "# sorts variables in order\n",
    "# sorted(dict.values()) or dict.keys() or dict.items()\n",
    "\n",
    "#sorted(people) works for keys and not items\n",
    "# the correct way is this one \n",
    "print(sorted(people.items()))\n",
    "print(sorted(people.keys()))\n",
    "print(sorted(people.values()))\n"
   ]
  },
  {
   "cell_type": "markdown",
   "metadata": {},
   "source": [
    "##### List with Dictionaries"
   ]
  },
  {
   "cell_type": "code",
   "execution_count": null,
   "metadata": {},
   "outputs": [],
   "source": [
    "names = [\"dave\", 'randy', 'greg', {'random_guy': 'robert', 'random_girl': 'barb'}]\n",
    "\n",
    "names[3]['random_girl'] #to get both values you need to print them if not you will get only one value\n",
    "names[3]['random_guy']\n",
    "\n",
    "#get all values in nested dict\n",
    "for v in names[3].values():\n",
    "    print(v)\n",
    "    \n",
    "    \n",
    "    \n",
    "for name in names:\n",
    "    if type(name)== str:\n",
    "        print(name)\n",
    "    else:\n",
    "        print(name['random_guy'])\n",
    "        print(name['random_girl'])"
   ]
  },
  {
   "cell_type": "markdown",
   "metadata": {},
   "source": [
    "##### Dictionaries with Lists"
   ]
  },
  {
   "cell_type": "code",
   "execution_count": null,
   "metadata": {},
   "outputs": [],
   "source": [
    "# be careful when using numbers as keys in dictionaries, don't confuse them with indexes\n",
    "random_data = {\n",
    "    'list1': [54,7,11],\n",
    "    \"2\": ['Smith']\n",
    "}\n",
    "\n",
    "print(random_data['list1'][1])\n",
    "random_data['2'][0]\n",
    "\n",
    "\n"
   ]
  },
  {
   "cell_type": "markdown",
   "metadata": {},
   "source": [
    "##### Dictionaries with Dictionaries"
   ]
  },
  {
   "cell_type": "code",
   "execution_count": null,
   "metadata": {},
   "outputs": [],
   "source": [
    "# to get values, must traverse through keys\n",
    "\n",
    "food_dict ={\n",
    "    \"ice_cream\": {\n",
    "        \"cho\": 2.99,\n",
    "        \"va\": 3.99,\n",
    "        \"oreo\": 5.99\n",
    "    },\n",
    "    \"pizza\":{\n",
    "        \"cheese\": 15,\n",
    "        \"pep\": 20\n",
    "    }\n",
    "    \n",
    "}\n",
    "\n",
    "print(food_dict['ice_cream']['oreo'])\n",
    "print(food_dict)     #this is if you want to print the whole list\n",
    "\n",
    "for k,v in food_dict['ice_cream'].items():      #how to pull items from a dictionary\n",
    "    print(f'The {k} ice cream cost ${v}')"
   ]
  },
  {
   "cell_type": "markdown",
   "metadata": {},
   "source": [
    "## Dictionaries vs. Lists (over time) Example of RUNTIME\n",
    "### When inputting values in a Dictionary vs List"
   ]
  },
  {
   "cell_type": "code",
   "execution_count": null,
   "metadata": {},
   "outputs": [],
   "source": [
    "import time\n",
    "\n",
    "\n",
    "# generate fake dictionary\n",
    "p = {}\n",
    "\n",
    "for i in range(10000000):\n",
    "    d[i] = 'value'\n",
    "    \n",
    "\n",
    "# generate fake list\n",
    "big_list = [x for x in range(10000000)]\n",
    "\n",
    "\n",
    "big_list"
   ]
  },
  {
   "cell_type": "code",
   "execution_count": null,
   "metadata": {},
   "outputs": [],
   "source": [
    "# tracking time for dictionary\n",
    "start_time = time.time()\n",
    "\n",
    "print(d[9999999])\n",
    "\n",
    "end_time = time.time() - start_time\n",
    "\n",
    "print('Elapsed time for dictionary: {}'.format(end_time))\n",
    "\n",
    "\n",
    "# tracking time for list\n",
    "start_time = time.time()\n",
    "\n",
    "for i in range(len(big_list)):\n",
    "    if i == 9999999:\n",
    "        print(i)\n",
    "\n",
    "end_time = time.time() - start_time\n",
    "\n",
    "print('Elapsed time for list: {}'.format(end_time))"
   ]
  },
  {
   "cell_type": "markdown",
   "metadata": {},
   "source": [
    "## Exercise #3 - Write a Function that asks someone's name and address, and then stores that into a dictionary, and continues to do so until they choose to 'quit'. Once they quit, the program should print all names and addresses. <br>\n",
    "<p>\n",
    "<b>Proper steps:</b><br>\n",
    "step 1: write a function that takes in information and stores it in a dictionary<br>\n",
    "step 2: define an empty dictionary to work with<br>\n",
    "step 3: create our loop, which asks the user for information until they quit<br>\n",
    "step 4: ask for the information, and store it into variables<br>\n",
    "step 5: check if the user types quit<br>\n",
    "step 5a: print out all information<br>\n",
    "step 5b: break out of the loop<br>\n",
    "step 6: if they didn't quit, add the information to the dictionary<br>\n",
    "step 7: invoke the function by calling it\n",
    "</p>"
   ]
  },
  {
   "cell_type": "code",
   "execution_count": null,
   "metadata": {},
   "outputs": [],
   "source": [
    "from IPython.display import clear_output\n",
    "\n",
    "\n",
    "def peopleInfo(): #step 1\n",
    "    d={}       #step 2\n",
    "    while True:   #step 3\n",
    "        name = input(\"Enter a name to store in the address book (type 'quit'to stoo): \") # step 4\n",
    "        address = input(\"Enter the address to be stored in the address boook (type 'quit'to stoo):  \")\n",
    "        if name.lower() == 'quit' or address.lower()== 'quit':      #step 5\n",
    "            for key, value in d.items():      #step 5a\n",
    "                print(f'The address for {key} is {value}')     #this program will make you type twice to quit  \n",
    "            break    #step 5b                           \n",
    "        d[name] = address   #part of step 4 and 6\n",
    "\n",
    "peopleInfo()\n",
    "        \n",
    "    \n",
    "# the second answer to quit once in either in name or address\n",
    "\n",
    "    \n",
    "def peopleInfo(): #step 1\n",
    "    d={}       #step 2\n",
    "    while True:   #step 3\n",
    "        name = input(\"Enter a name to be store in the address book (type 'quit'to stop): \") # step 4\n",
    "        if name.lower() == 'quit' or address.lower()== 'quit':      #step 5\n",
    "            for key, value in d.items():      #step 5a\n",
    "                print(f'The address for {key} is {value}')                     \n",
    "            break    #step 5b\n",
    "        address = input(\"Enter the address to be stored in the address boook (type 'quit'to stop):  \")\n",
    "        if address.lower() == 'quit' or address.lower()== 'quit':      #step 5\n",
    "            for key, value in d.items():      #step 5a\n",
    "                print(f'The address for {key} is {value}')                  \n",
    "            break    #step 5b                                                  \n",
    "        d[name] = address   #part of step 4 and 6\n",
    "\n",
    "peopleInfo()\n",
    "    \n"
   ]
  },
  {
   "cell_type": "markdown",
   "metadata": {},
   "source": [
    "## Set <br>\n",
    "<p>A Set is an unordered collection data type that is iterable (loop), mutable, and has no duplicate elements.<br>Major advantage is that it is highly optimized in checking if something is in the set, as opposed to checking if something is in a list.</p>"
   ]
  },
  {
   "cell_type": "markdown",
   "metadata": {},
   "source": [
    "##### Declaring"
   ]
  },
  {
   "cell_type": "code",
   "execution_count": null,
   "metadata": {},
   "outputs": [],
   "source": [
    "# set() or {}\n",
    "# no order {3, 2, 1} outputs as {1, 2, 3}\n",
    "\n",
    "set_1 ={3,2,1}            #the set will order whatever you have inside the curly brackets but not in the order that it was set up unlike sorted\n",
    "set_2 = set()             #best way to declare sets\n",
    "set_1"
   ]
  },
  {
   "cell_type": "markdown",
   "metadata": {},
   "source": [
    "##### .add()"
   ]
  },
  {
   "cell_type": "code",
   "execution_count": null,
   "metadata": {},
   "outputs": [],
   "source": [
    "# set.add()\n",
    "set_1.add(2.5)\n",
    "set_1.add(12)\n",
    "set_1"
   ]
  },
  {
   "cell_type": "markdown",
   "metadata": {},
   "source": [
    "##### .remove()"
   ]
  },
  {
   "cell_type": "code",
   "execution_count": null,
   "metadata": {},
   "outputs": [],
   "source": [
    "# removes by value\n",
    "# set.remove()\n",
    "# nums.remove(56)\n",
    "\n",
    "# set_1.remove(12)\n",
    "set_1.remove(2.5)\n",
    "set_1"
   ]
  },
  {
   "cell_type": "markdown",
   "metadata": {},
   "source": [
    "##### .union() "
   ]
  },
  {
   "cell_type": "code",
   "execution_count": null,
   "metadata": {},
   "outputs": [],
   "source": [
    "# Returns a union of two sets, can also use '|' or set.union(set)\n",
    "# joins all numbers, gets rid of duplicates\n",
    "s_1 = {1,2,3,4}\n",
    "s_2 = {3,4,5,6}                     #this is called concatination\n",
    "s_3 = {98,65,32,54,12}\n",
    "s4 = {345,234,675,543}\n",
    "s3 = s_1.union(s_2, s_3, s_4)        #if you want to add more list you can add it to s_1.inion(s_2, s_3, s_4)\n",
    "print(s3)\n",
    "\n",
    "#or\n",
    "\n",
    "\n",
    "s5 = s_1 | s_2\n",
    "print(s5)"
   ]
  },
  {
   "cell_type": "markdown",
   "metadata": {},
   "source": [
    "##### .intersection()"
   ]
  },
  {
   "cell_type": "code",
   "execution_count": null,
   "metadata": {},
   "outputs": [],
   "source": [
    "# Returns an intersection of two sets, can also use '&'\n",
    "# only takes similar elements from both sets\n",
    "\n",
    "s_6 = s_1 & s_2\n",
    "print(s_6)\n",
    "\n",
    "\n",
    "s_7 = s_1.intersection(s_2)\n",
    "print(s_7)"
   ]
  },
  {
   "cell_type": "markdown",
   "metadata": {},
   "source": [
    "##### .difference()"
   ]
  },
  {
   "cell_type": "code",
   "execution_count": null,
   "metadata": {},
   "outputs": [],
   "source": [
    "# Returns a set containing all the elements of invoking set that are not in the second set, can also use '-'\n",
    "# only takes values from the first set that are not in the second set\n",
    "# order matters\n",
    "\n",
    "s_1 = {1,2,3,4}\n",
    "s_2 = {3,4,5,6} \n",
    "\n",
    "s_3 = s_1.difference(s_2)     # you only get the differences on the first list only of s_1\n",
    "print(s_3)\n",
    "\n",
    "s_4 = s_2.difference(s_1)     # same to this one you only get the differences for the list colled in s_2\n",
    "print(s_4)"
   ]
  },
  {
   "cell_type": "markdown",
   "metadata": {},
   "source": [
    "##### .clear()"
   ]
  },
  {
   "cell_type": "code",
   "execution_count": null,
   "metadata": {},
   "outputs": [],
   "source": [
    "# Empties the whole set\n",
    "# set.clear()\n",
    "s4 = {345,234,675,543}\n",
    "print(s4)\n",
    "s4.clear()\n",
    "print(s4)"
   ]
  },
  {
   "cell_type": "markdown",
   "metadata": {},
   "source": [
    "##### Frozenset <br>\n",
    "<p>Frozen sets are immutable objects that only support methods and operators that produce a result without affecting the frozen set or sets to which they are applied.</p><br><b>Unique & Immutable</b>"
   ]
  },
  {
   "cell_type": "code",
   "execution_count": null,
   "metadata": {},
   "outputs": [],
   "source": [
    "# frozenset([])\n",
    "s_2 = {3,4,5,6}\n",
    "my_frozenset = frozenset(s_2)\n",
    "\n",
    "print(my_frozenset)              #the use on unique \n",
    "\n",
    "# my_frozenset.add(3)\n",
    "# my_frozenset.remove(3)       # you cannot use add, remove, clear to alter the string\n",
    "# my_frozenset.clear()\n"
   ]
  },
  {
   "cell_type": "markdown",
   "metadata": {},
   "source": [
    "## Modules"
   ]
  },
  {
   "cell_type": "markdown",
   "metadata": {},
   "source": [
    "##### Importing Entire Modules"
   ]
  },
  {
   "cell_type": "code",
   "execution_count": null,
   "metadata": {},
   "outputs": [],
   "source": [
    "# import or from 'xxx' import *\n",
    "import math        #or from math import *\n",
    "\n",
    "print(math.pi)\n",
    "print(math.floor(2.8))              # this are modules as they are packages to make your life easier when doing math\n",
    "print(math.floor(math.pi))"
   ]
  },
  {
   "cell_type": "markdown",
   "metadata": {},
   "source": [
    "##### Importing Methods Only"
   ]
  },
  {
   "cell_type": "code",
   "execution_count": 10,
   "metadata": {},
   "outputs": [
    {
     "name": "stdout",
     "output_type": "stream",
     "text": [
      "3.141592653589793\n",
      "3\n"
     ]
    }
   ],
   "source": [
    "# from 'xxx' import 'xxx'\n",
    "# from math import floor\n",
    "\n",
    "from math import pi, floor\n",
    "\n",
    "print(pi)\n",
    "print(floor(pi))\n"
   ]
  },
  {
   "cell_type": "markdown",
   "metadata": {},
   "source": [
    "##### Using the 'as' Keyword"
   ]
  },
  {
   "cell_type": "code",
   "execution_count": 9,
   "metadata": {},
   "outputs": [
    {
     "data": {
      "text/plain": [
       "3"
      ]
     },
     "execution_count": 9,
     "metadata": {},
     "output_type": "execute_result"
    }
   ],
   "source": [
    "# from 'xxx' import 'xxx' as 'xxx' or import 'xxx' as 'xxx'\n",
    "from math import floor as f, pi as p\n",
    "f(50.5)\n",
    "f(p)"
   ]
  },
  {
   "cell_type": "markdown",
   "metadata": {},
   "source": [
    "##### Creating a Module"
   ]
  },
  {
   "cell_type": "code",
   "execution_count": 26,
   "metadata": {},
   "outputs": [
    {
     "name": "stdout",
     "output_type": "stream",
     "text": [
      "Hello Mr/Ms nate...we've been waiting for you!\n",
      "None\n"
     ]
    }
   ],
   "source": [
    "import module \n",
    "  #make sure to download the module from the download folder form google classrooom\n",
    "print(module.printName(\"nate\"))\n",
    "\n",
    "# import module\n",
    "\n",
    "# module.printPi()"
   ]
  },
  {
   "cell_type": "markdown",
   "metadata": {},
   "source": [
    "# Exercises"
   ]
  },
  {
   "cell_type": "markdown",
   "metadata": {},
   "source": [
    "### 1) Build a Shopping Cart <br>\n",
    "<p><b>You can use either lists or dictionaries. The program should have the following capabilities:</b><br><br>\n",
    "1) Takes in input <br>\n",
    "2) Stores user input into a dictionary or list <br>\n",
    "3) The User can add or delete items <br>\n",
    "4) The User can see current shopping list <br>\n",
    "5) The program Loops until user 'quits' <br>\n",
    "6) Upon quiting the program, print out all items in the user's list <br>\n",
    "</p>"
   ]
  },
  {
   "cell_type": "code",
   "execution_count": null,
   "metadata": {},
   "outputs": [],
   "source": [
    "from IPython.display import clear_output\n",
    "\n",
    "# Ask the user four bits of input: Do you want to : Show/Add/Delete or Quit?\n",
    "\n",
    "def shoppinCart():\n",
    "    total_cart= []\n",
    "    while True:\n",
    "        option = input(\"To start you need to add items to the shopping cart then select from Show/Add/Delete/Quit/quantity? : \")\n",
    "        print(option)\n",
    "        if option.lower() == \"show\":\n",
    "            for i in total_cart:\n",
    "                print(i)\n",
    "\n",
    "        elif option.lower() == \"add\":\n",
    "            add = input(\"Enter the item you want to add: \")\n",
    "            total_cart.append(add)\n",
    "            print(\"your\" + add + \" been added to your cart\")\n",
    "\n",
    "        elif option.lower() == \"delete\":\n",
    "            delete = input(\"Enter the item that you want to remove: \")      \n",
    "            total_cart.remove(delete)\n",
    "            print(\"your \" + delete +  \" has been removed from your cart\")\n",
    "        elif option.lower() == \"quit\":\n",
    "            print(\"Goodbye\")\n",
    "            break\n",
    "        \n",
    "            \n",
    "shoppinCart()"
   ]
  },
  {
   "cell_type": "code",
   "execution_count": null,
   "metadata": {},
   "outputs": [],
   "source": [
    "### 2) Create a Module in VS Code and Import It into jupyter notebook <br>\n",
    "<p><b>Module should have the following capabilities:</b><br><br>\n",
    "1) Has a function to calculate the square footage of a house <br>\n",
    "    <b>Reminder of Formula: Length X Width == Area<br>\n",
    "        <hr>\n",
    "2) Has a function to calculate the circumference of a circle <br><br>\n",
    "<b>Program in Jupyter Notebook should take in user input and use imported functions to calculate a circle's circumference or a houses square footage</b>\n",
    "</p>"
   ]
  },
  {
   "cell_type": "code",
   "execution_count": 27,
   "metadata": {},
   "outputs": [
    {
     "name": "stdout",
     "output_type": "stream",
     "text": [
      "3.141592653589793\n",
      "Enter radius 89\n",
      " Circumference of a Circle = 558.92\n"
     ]
    }
   ],
   "source": [
    "from math import pi\n",
    "\n",
    "#question one\n",
    "\n",
    "# def sqrArea():\n",
    "#   length = int(input(\"enter a number for length \"))\n",
    "#   width = int(input(\"enter a number for width \"))\n",
    "\n",
    "#   total_area = length * width\n",
    "\n",
    "#   print(total_area)\n",
    "\n",
    "# sqrArea()\n",
    "\n",
    "\n",
    "\n",
    "\n",
    "\n",
    "#question two\n",
    "\n",
    "def circ():\n",
    "    radius= float(input(\"Enter radius \"))\n",
    "    PI = 3.14\n",
    "    circumference = 2 * PI * radius\n",
    "    print(\" Circumference of a Circle = %.2f\" %circumference)\n",
    "    \n",
    "circ()\n",
    "\n"
   ]
  },
  {
   "cell_type": "code",
   "execution_count": null,
   "metadata": {},
   "outputs": [],
   "source": []
  }
 ],
 "metadata": {
  "kernelspec": {
   "display_name": "Python 3",
   "language": "python",
   "name": "python3"
  },
  "language_info": {
   "codemirror_mode": {
    "name": "ipython",
    "version": 3
   },
   "file_extension": ".py",
   "mimetype": "text/x-python",
   "name": "python",
   "nbconvert_exporter": "python",
   "pygments_lexer": "ipython3",
   "version": "3.8.8"
  }
 },
 "nbformat": 4,
 "nbformat_minor": 2
}
